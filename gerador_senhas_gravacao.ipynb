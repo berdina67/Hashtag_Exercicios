{
 "cells": [
  {
   "cell_type": "markdown",
   "id": "74b1c214-34d8-43a1-867b-1055887eca93",
   "metadata": {},
   "source": [
    "Escreva um programa que gere uma senha aleatória com um determinado comprimento. A senha deve conter uma mistura de letras, números e caracteres especiais. O comprimento da senha deve ser fornecido pelo usuário. Se o comprimento for menor que 4, imprima uma mensagem de erro e peça ao usuário para fornecer um novo comprimento.\n",
    "\n",
    "A senha deve ser aleatória, então cada vez que o usuário executar o programa, uma nova senha deve ser gerada. Obrigatoriamente, a senha deve conter pelo menos uma letra, um número e um caractere especial. A senha não pode conter espaços em branco.\n",
    "\n",
    "O programa deve conter uma função chamada `gerar_senha` que recebe o comprimento da senha como parâmetro e retorna a senha gerada. Se o comprimento for inválido, a função deve retornar None.\n",
    "\n",
    "Exemplo de saída:\n",
    "\n",
    "```\n",
    "Digite o comprimento da senha: 10\n",
    "8Zn$*2q9X\n",
    "```\n",
    "\n",
    "- Dica: use a biblioteca random e a função shuffle para embaralhar os caracteres da senha.\n",
    "- Dica: use a função choice, dessa mesma biblioteca, para escolher um caractere aleatório de uma string.\n",
    "- Dica: use a biblioteca string para obter uma lista de caracteres válidos para a senha."
   ]
  },
  {
   "cell_type": "code",
   "execution_count": 38,
   "id": "36634219",
   "metadata": {},
   "outputs": [
    {
     "name": "stdout",
     "output_type": "stream",
     "text": [
      "Escolha a quantidade de caracteres para gerar a senha: 4\n",
      "p%%0\n"
     ]
    }
   ],
   "source": [
    "# importando bibliotecas\n",
    "import string, random\n",
    "\n",
    "# Montando uma string contendo letras números e caracteres especiais\n",
    "lista_de_strings = [string.ascii_letters, string.digits, string.punctuation]\n",
    "\n",
    "# \"Randomizando\" a lista para evitar que a senha comece sempre com letras, ou números, ou caracteres especiais através random.shuffle()\n",
    "\n",
    "def gerar_senha(num_caracteres):\n",
    "    if num_caracteres < 4:\n",
    "        print(\"A senha deve ter pelo menos 4 caracteres.\")\n",
    "    else:\n",
    "        # De forma aleatória serão escolhidas: letra, numero e caracter especial \n",
    "        letra = random.choice(string.ascii_letters)\n",
    "        numero = random.choice(string.digits)\n",
    "        caracter_especial = random.choice(string.punctuation)\n",
    "        \n",
    "        # Cria-se uma lista com uma letra, um numero e um caracter especial.\n",
    "        lista_de_caracteres = [letra, numero, caracter_especial]\n",
    "        \n",
    "        # Cria-se, de forma concatenada uma string contendo todos o números, letras e caractere especiais\n",
    "        string_de_caracteres = \"\".join(lista_de_strings)\n",
    "        \n",
    "        # Através do random.choices serão escolhidos os caracteres restantes da diferença entre k = num_caracteres - 3\n",
    "        # O método extend da lista irá adicioná-los à lista_caracteres \n",
    "        lista_de_caracteres.extend(random.choices(string_de_caracteres, k = num_caracteres - 3))\n",
    "        \n",
    "        # Shuffle irá embaralhar a lista_de_senhas\n",
    "        random.shuffle(lista_de_caracteres)\n",
    "        \n",
    "        # Será retornada uma string da lista_de_caracteres através do \"\".join() \n",
    "        return \"\".join(lista_de_caracteres)\n",
    "        \n",
    "tamanho_da_senha = int(input(\"Escolha a quantidade de caracteres para gerar a senha: \"))\n",
    "print(gerar_senha(tamanho_da_senha))\n",
    "\n"
   ]
  }
 ],
 "metadata": {
  "kernelspec": {
   "display_name": "Python 3 (ipykernel)",
   "language": "python",
   "name": "python3"
  },
  "language_info": {
   "codemirror_mode": {
    "name": "ipython",
    "version": 3
   },
   "file_extension": ".py",
   "mimetype": "text/x-python",
   "name": "python",
   "nbconvert_exporter": "python",
   "pygments_lexer": "ipython3",
   "version": "3.10.10"
  }
 },
 "nbformat": 4,
 "nbformat_minor": 5
}
